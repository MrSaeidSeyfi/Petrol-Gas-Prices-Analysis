{
  "nbformat": 4,
  "nbformat_minor": 0,
  "metadata": {
    "colab": {
      "name": "Petrol.ipynb",
      "provenance": [],
      "authorship_tag": "ABX9TyOqi4p8HhEulKBznr3ii9H8",
      "include_colab_link": true
    },
    "kernelspec": {
      "name": "python3",
      "display_name": "Python 3"
    },
    "language_info": {
      "name": "python"
    }
  },
  "cells": [
    {
      "cell_type": "markdown",
      "metadata": {
        "id": "view-in-github",
        "colab_type": "text"
      },
      "source": [
        "<a href=\"https://colab.research.google.com/github/MrSaeidSeyfi/Petrol-Gas-Prices-Analysis/blob/main/Petrol.ipynb\" target=\"_parent\"><img src=\"https://colab.research.google.com/assets/colab-badge.svg\" alt=\"Open In Colab\"/></a>"
      ]
    },
    {
      "cell_type": "code",
      "execution_count": 50,
      "metadata": {
        "id": "weBYNxgxC1NB"
      },
      "outputs": [],
      "source": [
        "#@title imports\n",
        "import matplotlib.pyplot as plt\n",
        "import csv\n",
        "import pandas as pd\n",
        "from scipy import stats"
      ]
    },
    {
      "cell_type": "code",
      "source": [
        "file=open(\"/content/Petrol Dataset.csv\",\"r\")"
      ],
      "metadata": {
        "id": "OC7-LsEPDnEQ"
      },
      "execution_count": 7,
      "outputs": []
    },
    {
      "cell_type": "code",
      "source": [
        "petrols=csv.reader(file)"
      ],
      "metadata": {
        "id": "UNLADHpvEaZQ"
      },
      "execution_count": 9,
      "outputs": []
    },
    {
      "cell_type": "code",
      "source": [
        "df = pd.read_csv(\"/content/Petrol Dataset.csv\", encoding='latin-1')\n",
        "petroldict = {}\n",
        "for i in range(2,7): \n",
        "    x=df[df.columns[i]].astype(str).str.rstrip('%').astype(float)\n",
        "    for j in range(2,7): \n",
        "        y=df[df.columns[j]].astype(str).str.rstrip('%').astype(float)\n",
        "        if i < j: \n",
        "          slope, intercept, r, p, std_err = stats.linregress(x, y)\n",
        "          petroldict.update({f\"cols {df.columns[i]} And {df.columns[j]} relation\": r}) \n",
        "        "
      ],
      "metadata": {
        "id": "gIXTEOkME6hN"
      },
      "execution_count": 98,
      "outputs": []
    },
    {
      "cell_type": "code",
      "source": [
        "# dict(sorted(petroldict.items(), key=lambda item: float(item[1] * 100)))\n",
        "sorted(petroldict.items(), key=lambda item: float(item[1] * 100),reverse=1)"
      ],
      "metadata": {
        "colab": {
          "base_uri": "https://localhost:8080/"
        },
        "id": "SShJNEaEZowb",
        "outputId": "e3672a31-9505-4eec-b198-71e804ae67bc"
      },
      "execution_count": 99,
      "outputs": [
        {
          "output_type": "execute_result",
          "data": {
            "text/plain": [
              "[('cols Price Per Gallon (USD) And Price Per Liter (USD) relation',\n",
              "  0.999996762290119),\n",
              " ('cols Daily Oil Consumption (Barrels) And World Share relation',\n",
              "  0.9999405636722156),\n",
              " ('cols World Share And Yearly Gallons Per Capita relation',\n",
              "  0.1497812715942381),\n",
              " ('cols Daily Oil Consumption (Barrels) And Yearly Gallons Per Capita relation',\n",
              "  0.149247971688147),\n",
              " ('cols Yearly Gallons Per Capita And Price Per Liter (USD) relation',\n",
              "  0.057471408004089286),\n",
              " ('cols Yearly Gallons Per Capita And Price Per Gallon (USD) relation',\n",
              "  0.05729269420805966),\n",
              " ('cols World Share And Price Per Gallon (USD) relation',\n",
              "  -0.02920771154960918),\n",
              " ('cols World Share And Price Per Liter (USD) relation',\n",
              "  -0.029352529559171624),\n",
              " ('cols Daily Oil Consumption (Barrels) And Price Per Gallon (USD) relation',\n",
              "  -0.029964865888410155),\n",
              " ('cols Daily Oil Consumption (Barrels) And Price Per Liter (USD) relation',\n",
              "  -0.030105950375001387)]"
            ]
          },
          "metadata": {},
          "execution_count": 99
        }
      ]
    }
  ]
}